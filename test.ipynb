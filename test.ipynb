{
 "metadata": {
  "language_info": {
   "codemirror_mode": {
    "name": "ipython",
    "version": 3
   },
   "file_extension": ".py",
   "mimetype": "text/x-python",
   "name": "python",
   "nbconvert_exporter": "python",
   "pygments_lexer": "ipython3",
   "version": "3.8.3-final"
  },
  "orig_nbformat": 2,
  "kernelspec": {
   "name": "python38364bitbasecondaec45f2db78904e24964f757a8c2b5f15",
   "display_name": "Python 3.8.3 64-bit ('base': conda)",
   "language": "python"
  }
 },
 "nbformat": 4,
 "nbformat_minor": 2,
 "cells": [
  {
   "cell_type": "code",
   "execution_count": 14,
   "metadata": {},
   "outputs": [],
   "source": [
    "import tensorflow as tf\n",
    "from tensorflow import keras\n",
    "import numpy as np\n",
    "from IPython.display import Image, display"
   ]
  },
  {
   "cell_type": "code",
   "execution_count": 2,
   "metadata": {},
   "outputs": [],
   "source": [
    "model = tf.keras.models.load_model('my_model')\n",
    "class_names = ['%', '*', '+', '-', '0', '1', '2', '3', '4', '5', '6', '7', '8', '9', '[', ']']"
   ]
  },
  {
   "cell_type": "code",
   "execution_count": 3,
   "metadata": {},
   "outputs": [
    {
     "output_type": "stream",
     "name": "stdout",
     "text": [
      "Model: \"sequential_1\"\n_________________________________________________________________\nLayer (type)                 Output Shape              Param #   \n=================================================================\nrescaling_2 (Rescaling)      (None, 28, 28, 1)         0         \n_________________________________________________________________\nconv2d_3 (Conv2D)            (None, 28, 28, 16)        160       \n_________________________________________________________________\nmax_pooling2d_3 (MaxPooling2 (None, 14, 14, 16)        0         \n_________________________________________________________________\nconv2d_4 (Conv2D)            (None, 14, 14, 32)        4640      \n_________________________________________________________________\nmax_pooling2d_4 (MaxPooling2 (None, 7, 7, 32)          0         \n_________________________________________________________________\nconv2d_5 (Conv2D)            (None, 7, 7, 64)          18496     \n_________________________________________________________________\nmax_pooling2d_5 (MaxPooling2 (None, 3, 3, 64)          0         \n_________________________________________________________________\ndropout_1 (Dropout)          (None, 3, 3, 64)          0         \n_________________________________________________________________\nflatten_1 (Flatten)          (None, 576)               0         \n_________________________________________________________________\ndense_2 (Dense)              (None, 128)               73856     \n_________________________________________________________________\ndense_3 (Dense)              (None, 16)                2064      \n=================================================================\nTotal params: 99,216\nTrainable params: 99,216\nNon-trainable params: 0\n_________________________________________________________________\n"
     ]
    }
   ],
   "source": [
    "model.summary()"
   ]
  },
  {
   "cell_type": "code",
   "execution_count": 26,
   "metadata": {},
   "outputs": [
    {
     "output_type": "display_data",
     "data": {
      "image/png": "[encoded data removed]",
      "text/plain": "<IPython.core.display.Image object>"
     },
     "metadata": {}
    },
    {
     "output_type": "stream",
     "name": "stdout",
     "text": [
      "This image most likely belongs to 4 with a 100.00 percent confidence.\n"
     ]
    }
   ],
   "source": [
    "img_path = \"test images/4.png\"\n",
    "display(Image(filename=img_path)) \n",
    "img = keras.preprocessing.image.load_img(\n",
    "    img_path, target_size=(28, 28), grayscale=True\n",
    ")\n",
    "img_array = keras.preprocessing.image.img_to_array(img)\n",
    "img_array = tf.expand_dims(img_array, 0)\n",
    "\n",
    "predictions = model.predict(img_array)\n",
    "score = tf.nn.softmax(predictions[0])\n",
    "\n",
    "print(\n",
    "    \"This image most likely belongs to {} with a {:.2f} percent confidence.\"\n",
    "    .format(class_names[np.argmax(score)], 100 * np.max(score))\n",
    ")"
   ]
  },
  {
   "cell_type": "code",
   "execution_count": 27,
   "metadata": {},
   "outputs": [],
   "source": [
    "def predict_image(img):\n",
    "    img_array = keras.preprocessing.image.img_to_array(img)\n",
    "    img_array = tf.expand_dims(img_array, 0) # Create a batch\n",
    "    predictions = model.predict(img_array)\n",
    "    score = tf.nn.softmax(predictions[0])\n",
    "    \n",
    "    return (class_names[np.argmax(score)], 100 * np.max(score))"
   ]
  },
  {
   "cell_type": "code",
   "execution_count": 55,
   "metadata": {},
   "outputs": [
    {
     "output_type": "display_data",
     "data": {
      "image/jpeg": "[encoded data removed]",
      "text/plain": "<IPython.core.display.Image object>"
     },
     "metadata": {}
    },
    {
     "output_type": "stream",
     "name": "stdout",
     "text": [
      "('9', 98.79574179649353)\n",
      "('+', 99.32170510292053)\n",
      "('3', 99.99513626098633)\n",
      "('-', 99.91315007209778)\n",
      "('5', 99.1050124168396)\n",
      "Equation: 9 + 3 - 5 \n",
      "Solution: 7\n"
     ]
    }
   ],
   "source": [
    "from preprocess import extract_patterns\n",
    "\n",
    "img_path = \"test images/test1.jpeg\"\n",
    "display(Image(filename=img_path)) \n",
    "patterns = extract_patterns(img_path)\n",
    "eq = ''\n",
    "\n",
    "for pattern in patterns:\n",
    "    patrern_string = predict_image(pattern)\n",
    "    print(patrern_string)\n",
    "    eq = eq +  str(patrern_string[0]) + \" \"\n",
    "\n",
    "print(\"Equation:\", eq)\n",
    "print(\"Solution:\", eval(eq))"
   ]
  }
 ]
}